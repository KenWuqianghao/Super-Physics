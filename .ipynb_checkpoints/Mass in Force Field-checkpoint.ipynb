{
 "cells": [
  {
   "cell_type": "code",
   "execution_count": 188,
   "metadata": {},
   "outputs": [],
   "source": [
    "import pandas as pd\n",
    "import numpy as np\n",
    "import matplotlib.pyplot as plt"
   ]
  },
  {
   "cell_type": "code",
   "execution_count": 189,
   "metadata": {},
   "outputs": [],
   "source": [
    "def force(x,y):\n",
    "    return(- G * M * m * x / ((x ** 2 + y ** 2) ** 1.5))"
   ]
  },
  {
   "cell_type": "code",
   "execution_count": 190,
   "metadata": {},
   "outputs": [],
   "source": [
    "def position(a, v, y):\n",
    "    return(0.5 * a * delta_t ** 2 + v * delta_t + y)"
   ]
  },
  {
   "cell_type": "code",
   "execution_count": 191,
   "metadata": {},
   "outputs": [],
   "source": [
    "def velocity(a, v):\n",
    "    return(a * delta_t + v)"
   ]
  },
  {
   "cell_type": "code",
   "execution_count": 192,
   "metadata": {},
   "outputs": [],
   "source": [
    "def acc(f):\n",
    "    return(f/M)"
   ]
  },
  {
   "cell_type": "code",
   "execution_count": 193,
   "metadata": {},
   "outputs": [],
   "source": [
    "t = np.linspace(0,10,1000)\n",
    "G = 60\n",
    "M = 10\n",
    "m = 1\n",
    "delta_t = 0.01\n",
    "\n",
    "x = [10]\n",
    "y = [0]\n",
    "f_x = [force(x[0], y[0])]\n",
    "f_y = [force(y[0],x[0])]\n",
    "v_x = [0]\n",
    "v_y = [3]\n",
    "a_x = [f_x[0] / m]\n",
    "a_y = [f_y[0] / m]"
   ]
  },
  {
   "cell_type": "code",
   "execution_count": 194,
   "metadata": {},
   "outputs": [],
   "source": [
    "for i in range (1,len(t)):\n",
    "    x.append(position(a_x[i - 1], v_x[i - 1], x[i - 1]))\n",
    "    y.append(position(a_y[i - 1], v_y[i - 1], y[i - 1]))\n",
    "\n",
    "    v_y.append(velocity(a_y[i - 1], v_y[i - 1]))\n",
    "    v_x.append(velocity(a_x[i - 1], v_x[i - 1]))\n",
    "\n",
    "    f_y.append(force(y[i], x[i]))\n",
    "    a_y.append(acc(f_y[i]))\n",
    "    \n",
    "    f_x.append(force(x[i], y[i]))\n",
    "    a_x.append(acc(f_x[i]))"
   ]
  },
  {
   "cell_type": "code",
   "execution_count": 195,
   "metadata": {},
   "outputs": [
    {
     "name": "stdout",
     "output_type": "stream",
     "text": [
      "9.998379991854629\n",
      "0.08999954993910876\n",
      "-0.0720010710597708\n",
      "2.99994599057588\n",
      "-6.001215090857766\n",
      "-0.054019416916039883\n",
      "-0.6001215090857765\n",
      "-0.005401941691603988\n"
     ]
    }
   ],
   "source": [
    "i = 3\n",
    "print(x[i])\n",
    "print(y[i])\n",
    "print(v_x[i])\n",
    "print(v_y[i])\n",
    "print(f_x[i])\n",
    "print(f_y[i])\n",
    "print(a_x[i])\n",
    "print(a_y[i])"
   ]
  },
  {
   "cell_type": "code",
   "execution_count": 196,
   "metadata": {},
   "outputs": [
    {
     "data": {
      "image/png": "[encoded data removed]",
      "text/plain": [
       "<Figure size 432x288 with 1 Axes>"
      ]
     },
     "metadata": {
      "needs_background": "light"
     },
     "output_type": "display_data"
    }
   ],
   "source": [
    "plt.scatter(x,y)\n",
    "plt.show()"
   ]
  }
 ],
 "metadata": {
  "interpreter": {
   "hash": "b9dd3331b743a80ff99bee626dbd57fc743240fa443b604dbe1859f3f702fafa"
  },
  "kernelspec": {
   "display_name": "Python 3 (ipykernel)",
   "language": "python",
   "name": "python3"
  },
  "language_info": {
   "codemirror_mode": {
    "name": "ipython",
    "version": 3
   },
   "file_extension": ".py",
   "mimetype": "text/x-python",
   "name": "python",
   "nbconvert_exporter": "python",
   "pygments_lexer": "ipython3",
   "version": "3.9.7"
  }
 },
 "nbformat": 4,
 "nbformat_minor": 2
}
